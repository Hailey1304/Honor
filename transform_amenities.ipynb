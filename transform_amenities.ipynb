{
 "cells": [
  {
   "cell_type": "code",
   "execution_count": 1,
   "metadata": {},
   "outputs": [],
   "source": [
    "import pandas as pd\n",
    "import os"
   ]
  },
  {
   "cell_type": "code",
   "execution_count": 2,
   "metadata": {},
   "outputs": [],
   "source": [
    "column_keep = ['GEO_ID', 'S2801_C02_003E', 'S2801_C02_007M', 'S2801_C02_015E', 'S2801_C02_017E', 'S2801_C02_018E']\n",
    "\n",
    "column_rename = {\n",
    "    'S2801_C02_003E': 'Computer',\n",
    "    'S2801_C02_007M': 'WirelessDevice',\n",
    "    'S2801_C02_015E': 'Cellular',\n",
    "    'S2801_C02_017E': 'CableFiber',\n",
    "    'S2801_C02_018E': 'SatelliteInternet'\n",
    "}"
   ]
  },
  {
   "cell_type": "code",
   "execution_count": 12,
   "metadata": {},
   "outputs": [],
   "source": [
    "all_data = []\n",
    "\n",
    "input_path = './Data/Internet/'\n",
    "\n",
    "# merge all data\n",
    "for file in os.listdir(input_path):\n",
    "    internet_download_raw = pd.read_csv(input_path + file, dtype= 'O', compression='gzip') [column_keep]\n",
    "    internet_download_raw = internet_download_raw.iloc[1:, :]\n",
    "    internet_download_raw['GEO_ID'] = internet_download_raw.GEO_ID.str.slice(start=-5)\n",
    "    internet_download_raw['year'] = file[7:11]\n",
    "    all_data.append(internet_download_raw)\n",
    "\n",
    "all_data = pd.concat(all_data).replace('-', '0').replace('**', '0').astype(float).rename(columns=column_rename)\n",
    "\n",
    "for column in column_rename.values():\n",
    "    all_data[column] /= 100\n",
    "\n",
    "# save data to output directory\n",
    "all_data.to_csv('./Output/final/INTERET_ZCTA.csv.gz', compression='gzip', sep = \",\", header=True, encoding='utf-8-sig', index=False)"
   ]
  }
 ],
 "metadata": {
  "kernelspec": {
   "display_name": "psyc510",
   "language": "python",
   "name": "psyc510"
  },
  "language_info": {
   "codemirror_mode": {
    "name": "ipython",
    "version": 3
   },
   "file_extension": ".py",
   "mimetype": "text/x-python",
   "name": "python",
   "nbconvert_exporter": "python",
   "pygments_lexer": "ipython3",
   "version": "3.9.13"
  }
 },
 "nbformat": 4,
 "nbformat_minor": 2
}
