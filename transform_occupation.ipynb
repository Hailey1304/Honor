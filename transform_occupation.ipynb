{
 "cells": [
  {
   "cell_type": "code",
   "execution_count": 3,
   "metadata": {},
   "outputs": [],
   "source": [
    "import pandas as pd\n",
    "import os"
   ]
  },
  {
   "cell_type": "code",
   "execution_count": 4,
   "metadata": {},
   "outputs": [],
   "source": [
    "# cross walk for cbsa and zcta\n",
    "walk = pd.read_csv('./Usage/us_xwalk.csv.gz')\n",
    "walk = walk.drop(columns=['tabblk2020']).drop_duplicates()\n",
    "occ_score = pd.read_csv('./Usage/NAICS_workfromhome.csv')['teleworkable_emp']\n",
    "columns = ['003', '004', '011', '005', '006', '007', '008', '010', '012', '014', '015', '017', '018', '019', '021', '022', '024', '025', '026', '027']\n",
    "columns = [f'S2404_C01_{col}E' for col in columns]"
   ]
  },
  {
   "cell_type": "code",
   "execution_count": 5,
   "metadata": {},
   "outputs": [],
   "source": [
    "input_path =  './Data/Occupation/'\n",
    "output_path = './Output/Occupation/'\n",
    "\n",
    "def transform_occupation_data(file):\n",
    "    '''\n",
    "    input:\n",
    "        str file: filename in ./data folder\n",
    "    output:\n",
    "        csv files: occupation data at ZCTA\n",
    "    '''\n",
    "\n",
    "    # read raw data and pre-precess\n",
    "    df = pd.read_csv(input_path + file,dtype='O', compression='gzip')\n",
    "    df = df.iloc[1: , :]\n",
    "    df['GEO_ID'] = df['GEO_ID'].str.slice(start=-5)\n",
    "\n",
    "    # merge cross-walk and raw data\n",
    "    tmp_data = df[['GEO_ID', 'S2404_C01_001E'] + columns].replace('-', pd.NA).replace('**', pd.NA).fillna('0').astype(int)\n",
    "    all_needed_data = pd.merge(tmp_data, walk, how='inner', left_on='GEO_ID', right_on='zcta')[['GEO_ID', 'cbsa', 'S2404_C01_001E'] + columns]\n",
    "\n",
    "    # calculate remote score and remote population density\n",
    "    all_needed_data['REMOTE'] = (all_needed_data[columns].rename(columns={col: i for col, i in zip(columns, range(0, 20))}).astype(float)@occ_score/all_needed_data['S2404_C01_001E'].values)\n",
    "    all_needed_data['REMOTE_PPL'] = (all_needed_data['S2404_C01_012E'].astype(int) + all_needed_data['S2404_C01_014E'].astype(int) + all_needed_data['S2404_C01_015E'].astype(int))\n",
    "\n",
    "    # save  occupation data at ZCTA\n",
    "    all_needed_data[['GEO_ID', 'REMOTE', 'REMOTE_PPL']].fillna(0).to_csv(f'{output_path}{file[:-7]}-ZCTA.csv.gz', compression='gzip', sep = \",\", header=True, encoding='utf-8-sig', index=False)"
   ]
  },
  {
   "cell_type": "code",
   "execution_count": 6,
   "metadata": {},
   "outputs": [],
   "source": [
    "for file in os.listdir(input_path):\n",
    "    transform_occupation_data(file)"
   ]
  },
  {
   "cell_type": "code",
   "execution_count": 7,
   "metadata": {},
   "outputs": [],
   "source": [
    "#combine all yearly occupation to 1 file \n",
    "all_file = os.listdir(output_path)\n",
    "\n",
    "occ_historical = []\n",
    "for file in all_file:\n",
    "    year = int(file[7:11])\n",
    "    occ_by_year = pd.read_csv(output_path + file, compression='gzip')\n",
    "    occ_by_year['year'] = year\n",
    "    occ_historical.append(occ_by_year)\n",
    "\n",
    "occ_historical = pd.concat(occ_historical)\n",
    "occ_historical.to_csv('./Output/final/OCCUPATION_ZCTA.csv.gz', compression='gzip', sep = \",\", header=True, encoding='utf-8-sig', index=False)"
   ]
  }
 ],
 "metadata": {
  "kernelspec": {
   "display_name": "psyc510",
   "language": "python",
   "name": "python3"
  },
  "language_info": {
   "codemirror_mode": {
    "name": "ipython",
    "version": 3
   },
   "file_extension": ".py",
   "mimetype": "text/x-python",
   "name": "python",
   "nbconvert_exporter": "python",
   "pygments_lexer": "ipython3",
   "version": "3.9.13"
  }
 },
 "nbformat": 4,
 "nbformat_minor": 2
}
